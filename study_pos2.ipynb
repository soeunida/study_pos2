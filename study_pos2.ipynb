{
 "cells": [
  {
   "cell_type": "code",
   "execution_count": null,
   "source": [
    "# POS tagging : 문장의 단어를 POS와 연결하는 것\r\n",
    "# Parts of Speech : 문장에 존재하는 단어를 특정 문법적 기능으로 분류하는 것\r\n",
    "# English의 경우: parts of speech는 noun, pronoun, adjective, verb, adverb, preposition, determiner, conjunction\r\n",
    "\r\n",
    "# NLTK에서 가장 많이 사용하는 tagging 데이터셋 : Penn Treebank, Brown Corpus"
   ],
   "outputs": [],
   "metadata": {}
  },
  {
   "cell_type": "code",
   "execution_count": 2,
   "source": [
    "from nltk.corpus import brown\r\n",
    "type(brown.tagged_words()), len(brown.tagged_words())"
   ],
   "outputs": [
    {
     "output_type": "execute_result",
     "data": {
      "text/plain": [
       "(nltk.corpus.reader.util.ConcatenatedCorpusView, 1161192)"
      ]
     },
     "metadata": {},
     "execution_count": 2
    }
   ],
   "metadata": {}
  },
  {
   "cell_type": "code",
   "execution_count": 3,
   "source": [
    "brown.tagged_words()[30:40]"
   ],
   "outputs": [
    {
     "output_type": "execute_result",
     "data": {
      "text/plain": [
       "[('term-end', 'NN'),\n",
       " ('presentments', 'NNS'),\n",
       " ('that', 'CS'),\n",
       " ('the', 'AT'),\n",
       " ('City', 'NN-TL'),\n",
       " ('Executive', 'JJ-TL'),\n",
       " ('Committee', 'NN-TL'),\n",
       " (',', ','),\n",
       " ('which', 'WDT'),\n",
       " ('had', 'HVD')]"
      ]
     },
     "metadata": {},
     "execution_count": 3
    }
   ],
   "metadata": {}
  },
  {
   "cell_type": "code",
   "execution_count": null,
   "source": [
    "# ('City', 'NN-TL') : noun이고 context of a title"
   ],
   "outputs": [],
   "metadata": {}
  },
  {
   "cell_type": "code",
   "execution_count": 4,
   "source": [
    "brown.tagged_words(tagset=\"universal\")[30:40]"
   ],
   "outputs": [
    {
     "output_type": "execute_result",
     "data": {
      "text/plain": [
       "[('term-end', 'NOUN'),\n",
       " ('presentments', 'NOUN'),\n",
       " ('that', 'ADP'),\n",
       " ('the', 'DET'),\n",
       " ('City', 'NOUN'),\n",
       " ('Executive', 'ADJ'),\n",
       " ('Committee', 'NOUN'),\n",
       " (',', '.'),\n",
       " ('which', 'DET'),\n",
       " ('had', 'VERB')]"
      ]
     },
     "metadata": {},
     "execution_count": 4
    }
   ],
   "metadata": {}
  },
  {
   "cell_type": "code",
   "execution_count": 11,
   "source": [
    "nltk.download('averaged_perceptron_tagger')"
   ],
   "outputs": [
    {
     "output_type": "stream",
     "name": "stderr",
     "text": [
      "[nltk_data] Downloading package averaged_perceptron_tagger to\n",
      "[nltk_data]     C:\\Users\\한국IT비즈니스진흥협회\\AppData\\Roaming\\nltk_data...\n",
      "[nltk_data]   Unzipping taggers\\averaged_perceptron_tagger.zip.\n"
     ]
    },
    {
     "output_type": "execute_result",
     "data": {
      "text/plain": [
       "True"
      ]
     },
     "metadata": {},
     "execution_count": 11
    }
   ],
   "metadata": {}
  },
  {
   "cell_type": "code",
   "execution_count": 12,
   "source": [
    "# POS tagging : Named Entity Recognition (NER), 감성 분석, 응답 시스템, 단어 의도 확인에 사용\r\n",
    "import nltk\r\n",
    "\r\n",
    "text1 = nltk.word_tokenize(\"I left the room\")\r\n",
    "text2 = nltk.word_tokenize(\"Left of the room\")\r\n"
   ],
   "outputs": [],
   "metadata": {}
  },
  {
   "cell_type": "code",
   "execution_count": 13,
   "source": [
    "nltk.pos_tag(text1, tagset=\"universal\")"
   ],
   "outputs": [
    {
     "output_type": "execute_result",
     "data": {
      "text/plain": [
       "[('I', 'PRON'), ('left', 'VERB'), ('the', 'DET'), ('room', 'NOUN')]"
      ]
     },
     "metadata": {},
     "execution_count": 13
    }
   ],
   "metadata": {}
  },
  {
   "cell_type": "code",
   "execution_count": 14,
   "source": [
    "nltk.pos_tag(text2, tagset=\"universal\")"
   ],
   "outputs": [
    {
     "output_type": "execute_result",
     "data": {
      "text/plain": [
       "[('Left', 'NOUN'), ('of', 'ADP'), ('the', 'DET'), ('room', 'NOUN')]"
      ]
     },
     "metadata": {},
     "execution_count": 14
    }
   ],
   "metadata": {}
  },
  {
   "cell_type": "code",
   "execution_count": 15,
   "source": [
    "import nltk\r\n",
    "example_sentence = nltk.word_tokenize(\"The company is located in South Africa\")"
   ],
   "outputs": [],
   "metadata": {}
  },
  {
   "cell_type": "code",
   "execution_count": 16,
   "source": [
    "type(example_sentence), len(example_sentence), example_sentence"
   ],
   "outputs": [
    {
     "output_type": "execute_result",
     "data": {
      "text/plain": [
       "(list, 7, ['The', 'company', 'is', 'located', 'in', 'South', 'Africa'])"
      ]
     },
     "metadata": {},
     "execution_count": 16
    }
   ],
   "metadata": {}
  },
  {
   "cell_type": "code",
   "execution_count": 17,
   "source": [
    "tagging_example_sentence = nltk.pos_tag(example_sentence)\r\n",
    "type(tagging_example_sentence), len(tagging_example_sentence), tagging_example_sentence"
   ],
   "outputs": [
    {
     "output_type": "execute_result",
     "data": {
      "text/plain": [
       "(list,\n",
       " 7,\n",
       " [('The', 'DT'),\n",
       "  ('company', 'NN'),\n",
       "  ('is', 'VBZ'),\n",
       "  ('located', 'VBN'),\n",
       "  ('in', 'IN'),\n",
       "  ('South', 'NNP'),\n",
       "  ('Africa', 'NNP')])"
      ]
     },
     "metadata": {},
     "execution_count": 17
    }
   ],
   "metadata": {}
  },
  {
   "cell_type": "code",
   "execution_count": 18,
   "source": [
    "tagging_example_sentence = nltk.ne_chunk(tagging_example_sentence)\r\n",
    "type(tagging_example_sentence), len(tagging_example_sentence), tagging_example_sentence\r\n",
    "# GPE : geopolitical entity의 약자"
   ],
   "outputs": [
    {
     "output_type": "execute_result",
     "data": {
      "text/plain": [
       "(nltk.tree.Tree,\n",
       " 6,\n",
       " Tree('S', [('The', 'DT'), ('company', 'NN'), ('is', 'VBZ'), ('located', 'VBN'), ('in', 'IN'), Tree('GPE', [('South', 'NNP'), ('Africa', 'NNP')])]))"
      ]
     },
     "metadata": {},
     "execution_count": 18
    }
   ],
   "metadata": {}
  },
  {
   "cell_type": "code",
   "execution_count": 20,
   "source": [
    "from nltk.corpus import movie_reviews \r\n",
    "\r\n",
    "cats = movie_reviews.categories()\r\n",
    "type(cats), len(cats), cats"
   ],
   "outputs": [
    {
     "output_type": "execute_result",
     "data": {
      "text/plain": [
       "(list, 2, ['neg', 'pos'])"
      ]
     },
     "metadata": {},
     "execution_count": 20
    }
   ],
   "metadata": {}
  },
  {
   "cell_type": "code",
   "execution_count": 26,
   "source": [
    "len(movie_reviews.fileids()), len(movie_reviews.fileids(\"neg\")), len(movie_reviews.fileids(\"pos\"))"
   ],
   "outputs": [
    {
     "output_type": "execute_result",
     "data": {
      "text/plain": [
       "(2000, 1000, 1000)"
      ]
     },
     "metadata": {},
     "execution_count": 26
    }
   ],
   "metadata": {}
  },
  {
   "cell_type": "code",
   "execution_count": 34,
   "source": [
    "reviews = []\r\n",
    "for cat in cats:\r\n",
    "    for fid in movie_reviews.fileids(cat):\r\n",
    "        review = (list(movie_reviews.words(fid)), cat)\r\n",
    "        reviews.append(review)"
   ],
   "outputs": [],
   "metadata": {}
  },
  {
   "cell_type": "code",
   "execution_count": 36,
   "source": [
    "type(reviews), len(reviews)"
   ],
   "outputs": [
    {
     "output_type": "execute_result",
     "data": {
      "text/plain": [
       "(list, 2000)"
      ]
     },
     "metadata": {},
     "execution_count": 36
    }
   ],
   "metadata": {}
  },
  {
   "cell_type": "code",
   "execution_count": 37,
   "source": [
    "import random\r\n",
    "\r\n",
    "random.shuffle(reviews)"
   ],
   "outputs": [],
   "metadata": {}
  },
  {
   "cell_type": "code",
   "execution_count": 38,
   "source": [
    "all_wd_id_reviews = nltk.FreqDist(wd.lower() for wd in movie_reviews.words())"
   ],
   "outputs": [],
   "metadata": {}
  },
  {
   "cell_type": "code",
   "execution_count": 40,
   "source": [
    "type(all_wd_id_reviews.most_common(2000)), len(all_wd_id_reviews.most_common(2000))"
   ],
   "outputs": [
    {
     "output_type": "execute_result",
     "data": {
      "text/plain": [
       "(list, 2000)"
      ]
     },
     "metadata": {},
     "execution_count": 40
    }
   ],
   "metadata": {}
  },
  {
   "cell_type": "code",
   "execution_count": 52,
   "source": [
    "top_wd_in_reviews = [list(wds) for wds in zip(*all_wd_id_reviews.most_common(2000))][0]\r\n",
    "type(top_wd_in_reviews), len(top_wd_in_reviews)"
   ],
   "outputs": [
    {
     "output_type": "execute_result",
     "data": {
      "text/plain": [
       "(list, 2000)"
      ]
     },
     "metadata": {},
     "execution_count": 52
    }
   ],
   "metadata": {}
  },
  {
   "cell_type": "code",
   "execution_count": 56,
   "source": [
    "# binary features\r\n",
    "def extract_feature(review, top_words):\r\n",
    "    reviews_wds = set(review)\r\n",
    "    feature = {}\r\n",
    "    for wd in top_words:\r\n",
    "        feature[\"word_presen({}\".format(wd)] = (wd in reviews_wds) \r\n",
    "    \r\n",
    "    return feature"
   ],
   "outputs": [],
   "metadata": {}
  },
  {
   "cell_type": "code",
   "execution_count": 57,
   "source": [
    "featuresets = [(extract_feature(d, top_wd_in_reviews), c) for (d, c) in reviews]"
   ],
   "outputs": [],
   "metadata": {}
  },
  {
   "cell_type": "code",
   "execution_count": 58,
   "source": [
    "type(featuresets), len(featuresets)"
   ],
   "outputs": [
    {
     "output_type": "execute_result",
     "data": {
      "text/plain": [
       "(list, 2000)"
      ]
     },
     "metadata": {},
     "execution_count": 58
    }
   ],
   "metadata": {}
  },
  {
   "cell_type": "code",
   "execution_count": null,
   "source": [
    "train_set, test_set = featuresets[200:], featuresets[:200]"
   ],
   "outputs": [],
   "metadata": {}
  }
 ],
 "metadata": {
  "orig_nbformat": 4,
  "language_info": {
   "name": "python",
   "version": "3.9.4",
   "mimetype": "text/x-python",
   "codemirror_mode": {
    "name": "ipython",
    "version": 3
   },
   "pygments_lexer": "ipython3",
   "nbconvert_exporter": "python",
   "file_extension": ".py"
  },
  "kernelspec": {
   "name": "python3",
   "display_name": "Python 3.9.4 64-bit ('venv': venv)"
  },
  "interpreter": {
   "hash": "3d5a299a6467bc5d71e06d1166f4ec84ec5371f9f031f1c2c8a1b5cd7f0cabb3"
  }
 },
 "nbformat": 4,
 "nbformat_minor": 2
}